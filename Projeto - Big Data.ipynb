{
 "cells": [
  {
   "attachments": {},
   "cell_type": "markdown",
   "metadata": {},
   "source": [
    "># Projeto: Técnicas de Programação I"
   ]
  },
  {
   "attachments": {},
   "cell_type": "markdown",
   "metadata": {},
   "source": [
    "### 1. Descrição\n",
    "Este notebook contém a descrição do projeto prático do módulo: Big Data I. Neste projeto, aplicaremos as técnicas aprendidas em aula para criarmos um processo de ETL em uma plataforma de Cloud."
   ]
  },
  {
   "attachments": {},
   "cell_type": "markdown",
   "metadata": {},
   "source": [
    "### 2. Objetivo\n",
    "Construir um pipeline de ETL (Extract-Transform-Load) para a construção de um Data Warehouse na plataforma DataBricks Community."
   ]
  },
  {
   "attachments": {},
   "cell_type": "markdown",
   "metadata": {},
   "source": [
    "### 3. Etapas\n",
    "1. Exportar as tabelas do Northwind em .CSV;\n",
    "\n",
    "2. Carregar para camada Raw de um Data Lake no DBFS (botão de upload);\n",
    "\n",
    "3. Salvar dados em formato parquet em uma segunda camada, trusted;\n",
    "\n",
    "4. Modelar a base de dados Northwind em formato Star Schema ou Snowflake para criação de um Data Warehouse.\n",
    "\n",
    "Opcional: Criar em uma terceira camada, refined, um Data Lakehouse com o modelo do passo anterior, através de Delta Tables, com ao menos duas tabelas agregadas."
   ]
  },
  {
   "attachments": {},
   "cell_type": "markdown",
   "metadata": {},
   "source": [
    "### 4. Análises com Apache Spark\n",
    "1. Quais são os três produtos MENOS vendidos?\n",
    "\n",
    "2. Quais são os cinco clientes que MAIS compras fizeram? (quantidade)\n",
    "\n",
    "3. Quais são os cinco clientes com MAIOR total gasto? (montante)\n",
    "\n",
    "4. Qual o melhor funcionário do último mês registrado? (total de vendas)\n",
    "\n",
    "5. Quais as regiões com menos clientes cadastrados?"
   ]
  },
  {
   "attachments": {},
   "cell_type": "markdown",
   "metadata": {},
   "source": [
    "### Fontes de dados alternativas\n",
    "Esta é uma lista de fontes que vocês podem utilizar como alternativa à base Northwind. Você está livre para utilizar esta e outras fontes de dados que não estejam listadas neste documento, desde que haja uma concordância prévia com o professor."
   ]
  },
  {
   "attachments": {},
   "cell_type": "markdown",
   "metadata": {},
   "source": [
    "### Fontes de dados sugeridas\n",
    "* Covid19br (https://github.com/)\n",
    "* Agência Nacional de Petróleo e Gás\n",
    "* DataSUS (ftp.datasus.gov.br)*\n",
    "* Dados.gov.br\n",
    "* Kaggle\n",
    "\n",
    "\\*Obs: pode ser acessado por um cliente FTP (Ex.: Filezilla)"
   ]
  },
  {
   "attachments": {},
   "cell_type": "markdown",
   "metadata": {},
   "source": [
    "### Organização e entregáveis\n",
    "O projeto pode ser feito em grupos de até 5 participantes.\n",
    "O projeto completo (notebook, código-fonte, link para fontes, bases e demais artefatos) deve ser publicado no Github.\n",
    "O projeto completo (notebook, código-fonte, link para fontes, bases e demais artefatos) deve ser enviado por e-mail (alexlimacavalera@gmail.com) com nome dos participantes e link do repositório no github."
   ]
  },
  {
   "attachments": {},
   "cell_type": "markdown",
   "metadata": {},
   "source": [
    "### Critérios de avaliação\n",
    "A avaliação será feita com base nos artefatos entregues e na sua apresentação.\n",
    "\n",
    "A estrutura abaixo lista sugestões do que pode conter no seu trabalho (entregáveis):\n",
    "- dicionário de dados;\n",
    "- diagrama de entidade e relacionamento de cada camada.\n",
    "- notebooks para a construção do datalake;\n",
    "- notebooks para a análise dos dados."
   ]
  },
  {
   "attachments": {},
   "cell_type": "markdown",
   "metadata": {},
   "source": [
    "### Deadline\n",
    "Apresentação: 16/02/2023\n",
    "Tempo de apresentação: A depender da quantidade de grupos. (Aproximadamente 15~20 minutos)"
   ]
  }
 ],
 "metadata": {
  "kernelspec": {
   "display_name": "Python 3",
   "language": "python",
   "name": "python3"
  },
  "language_info": {
   "codemirror_mode": {
    "name": "ipython",
    "version": 3
   },
   "file_extension": ".py",
   "mimetype": "text/x-python",
   "name": "python",
   "nbconvert_exporter": "python",
   "pygments_lexer": "ipython3",
   "version": "3.10.7"
  },
  "orig_nbformat": 4,
  "vscode": {
   "interpreter": {
    "hash": "dd3bf69c6ba5fbc94accdd3eabdb026e218612d1bccc82d654a5484a2818f269"
   }
  }
 },
 "nbformat": 4,
 "nbformat_minor": 2
}
